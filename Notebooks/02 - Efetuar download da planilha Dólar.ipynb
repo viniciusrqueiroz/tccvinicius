{
 "cells": [
  {
   "cell_type": "code",
   "execution_count": 1,
   "id": "a3496920",
   "metadata": {},
   "outputs": [],
   "source": [
    "#pip install wget"
   ]
  },
  {
   "cell_type": "code",
   "execution_count": 2,
   "id": "2575437b",
   "metadata": {},
   "outputs": [],
   "source": [
    "import pandas as pd\n",
    "import os\n",
    "import wget\n"
   ]
  },
  {
   "cell_type": "code",
   "execution_count": 3,
   "id": "c8ebd531",
   "metadata": {},
   "outputs": [],
   "source": [
    "#Definição de variáveis\n",
    "pasta_planilhas='../Planilhas/'\n",
    "planilha_combustiveis = '../Datasets/combustiveis.csv'"
   ]
  },
  {
   "cell_type": "code",
   "execution_count": 4,
   "id": "c64ccd57",
   "metadata": {},
   "outputs": [],
   "source": [
    "# Função utilizada para remover um arquivo caso ele exista\n",
    "# Foi preferível utilizar esta função ao invés de diretamente o os.remove() para efetuar o \n",
    "# tratamento de exceções e não interromper o processamento caso ocorram.\n",
    "\n",
    "def remover_arquivo(url):\n",
    "    try:\n",
    "        os.remove(url)\n",
    "        print('O arquivo ' + url + ' foi removido com sucesso.')\n",
    "        return True\n",
    "    except:\n",
    "        #print('O arquivo ' + url + ' não pode ser removido.')\n",
    "        return False"
   ]
  },
  {
   "cell_type": "code",
   "execution_count": 5,
   "id": "42657e4f",
   "metadata": {},
   "outputs": [],
   "source": [
    "# Para efetuar o download da planilha Dólar, é necessário entrar como parâmetros, entre outros, o período desejado.\n",
    "# Dessa forma, inicialmente é feita uma verificação no dataframe 'df_combustiveis' para obter esses valores."
   ]
  },
  {
   "cell_type": "code",
   "execution_count": 6,
   "id": "acb8e6cb",
   "metadata": {},
   "outputs": [
    {
     "name": "stdout",
     "output_type": "stream",
     "text": [
      "O arquivo ../Datasets/combustiveis.csv existe.\n"
     ]
    }
   ],
   "source": [
    "# Verifica se o arquivo 'combustiveis.csv' existe\n",
    "planilha_combustiveis_existe = os.path.isfile(planilha_combustiveis)\n",
    "\n",
    "if planilha_combustiveis_existe:\n",
    "    print(f'O arquivo {planilha_combustiveis} existe.') \n",
    "else:\n",
    "    print(f'O arquivo {planilha_combustiveis} não existe, execute o Notebook anterior.') \n"
   ]
  },
  {
   "cell_type": "code",
   "execution_count": 7,
   "id": "91efb20f",
   "metadata": {},
   "outputs": [
    {
     "data": {
      "text/html": [
       "<div>\n",
       "<style scoped>\n",
       "    .dataframe tbody tr th:only-of-type {\n",
       "        vertical-align: middle;\n",
       "    }\n",
       "\n",
       "    .dataframe tbody tr th {\n",
       "        vertical-align: top;\n",
       "    }\n",
       "\n",
       "    .dataframe thead th {\n",
       "        text-align: right;\n",
       "    }\n",
       "</style>\n",
       "<table border=\"1\" class=\"dataframe\">\n",
       "  <thead>\n",
       "    <tr style=\"text-align: right;\">\n",
       "      <th></th>\n",
       "      <th>Regiao</th>\n",
       "      <th>Estado</th>\n",
       "      <th>Municipio</th>\n",
       "      <th>Produto</th>\n",
       "      <th>ValorVenda</th>\n",
       "    </tr>\n",
       "    <tr>\n",
       "      <th>Data</th>\n",
       "      <th></th>\n",
       "      <th></th>\n",
       "      <th></th>\n",
       "      <th></th>\n",
       "      <th></th>\n",
       "    </tr>\n",
       "  </thead>\n",
       "  <tbody>\n",
       "    <tr>\n",
       "      <th>2005-01-04</th>\n",
       "      <td>SE</td>\n",
       "      <td>SP</td>\n",
       "      <td>GUARULHOS</td>\n",
       "      <td>GASOLINA</td>\n",
       "      <td>2.257</td>\n",
       "    </tr>\n",
       "    <tr>\n",
       "      <th>2005-01-04</th>\n",
       "      <td>SE</td>\n",
       "      <td>SP</td>\n",
       "      <td>GUARULHOS</td>\n",
       "      <td>ETANOL</td>\n",
       "      <td>1.449</td>\n",
       "    </tr>\n",
       "    <tr>\n",
       "      <th>2005-01-04</th>\n",
       "      <td>SE</td>\n",
       "      <td>SP</td>\n",
       "      <td>SOROCABA</td>\n",
       "      <td>GASOLINA</td>\n",
       "      <td>2.210</td>\n",
       "    </tr>\n",
       "    <tr>\n",
       "      <th>2005-01-04</th>\n",
       "      <td>SE</td>\n",
       "      <td>SP</td>\n",
       "      <td>SOROCABA</td>\n",
       "      <td>ETANOL</td>\n",
       "      <td>1.230</td>\n",
       "    </tr>\n",
       "    <tr>\n",
       "      <th>2005-01-03</th>\n",
       "      <td>CO</td>\n",
       "      <td>DF</td>\n",
       "      <td>BRASILIA</td>\n",
       "      <td>GASOLINA</td>\n",
       "      <td>2.150</td>\n",
       "    </tr>\n",
       "    <tr>\n",
       "      <th>...</th>\n",
       "      <td>...</td>\n",
       "      <td>...</td>\n",
       "      <td>...</td>\n",
       "      <td>...</td>\n",
       "      <td>...</td>\n",
       "    </tr>\n",
       "    <tr>\n",
       "      <th>2021-12-31</th>\n",
       "      <td>SE</td>\n",
       "      <td>RJ</td>\n",
       "      <td>CAMPOS DOS GOYTACAZES</td>\n",
       "      <td>GASOLINA</td>\n",
       "      <td>7.090</td>\n",
       "    </tr>\n",
       "    <tr>\n",
       "      <th>2021-12-31</th>\n",
       "      <td>NE</td>\n",
       "      <td>BA</td>\n",
       "      <td>JEQUIE</td>\n",
       "      <td>ETANOL</td>\n",
       "      <td>5.859</td>\n",
       "    </tr>\n",
       "    <tr>\n",
       "      <th>2021-12-31</th>\n",
       "      <td>NE</td>\n",
       "      <td>BA</td>\n",
       "      <td>JEQUIE</td>\n",
       "      <td>GASOLINA</td>\n",
       "      <td>6.799</td>\n",
       "    </tr>\n",
       "    <tr>\n",
       "      <th>2021-12-31</th>\n",
       "      <td>SE</td>\n",
       "      <td>MG</td>\n",
       "      <td>ITUIUTABA</td>\n",
       "      <td>ETANOL</td>\n",
       "      <td>4.740</td>\n",
       "    </tr>\n",
       "    <tr>\n",
       "      <th>2021-12-31</th>\n",
       "      <td>SE</td>\n",
       "      <td>MG</td>\n",
       "      <td>ITUIUTABA</td>\n",
       "      <td>GASOLINA</td>\n",
       "      <td>6.580</td>\n",
       "    </tr>\n",
       "  </tbody>\n",
       "</table>\n",
       "<p>12900965 rows × 5 columns</p>\n",
       "</div>"
      ],
      "text/plain": [
       "           Regiao Estado              Municipio   Produto  ValorVenda\n",
       "Data                                                                 \n",
       "2005-01-04     SE     SP              GUARULHOS  GASOLINA       2.257\n",
       "2005-01-04     SE     SP              GUARULHOS    ETANOL       1.449\n",
       "2005-01-04     SE     SP               SOROCABA  GASOLINA       2.210\n",
       "2005-01-04     SE     SP               SOROCABA    ETANOL       1.230\n",
       "2005-01-03     CO     DF               BRASILIA  GASOLINA       2.150\n",
       "...           ...    ...                    ...       ...         ...\n",
       "2021-12-31     SE     RJ  CAMPOS DOS GOYTACAZES  GASOLINA       7.090\n",
       "2021-12-31     NE     BA                 JEQUIE    ETANOL       5.859\n",
       "2021-12-31     NE     BA                 JEQUIE  GASOLINA       6.799\n",
       "2021-12-31     SE     MG              ITUIUTABA    ETANOL       4.740\n",
       "2021-12-31     SE     MG              ITUIUTABA  GASOLINA       6.580\n",
       "\n",
       "[12900965 rows x 5 columns]"
      ]
     },
     "metadata": {},
     "output_type": "display_data"
    },
    {
     "name": "stdout",
     "output_type": "stream",
     "text": [
      "<class 'pandas.core.frame.DataFrame'>\n",
      "DatetimeIndex: 12900965 entries, 2005-01-04 to 2021-12-31\n",
      "Data columns (total 5 columns):\n",
      " #   Column      Dtype  \n",
      "---  ------      -----  \n",
      " 0   Regiao      object \n",
      " 1   Estado      object \n",
      " 2   Municipio   object \n",
      " 3   Produto     object \n",
      " 4   ValorVenda  float64\n",
      "dtypes: float64(1), object(4)\n",
      "memory usage: 590.6+ MB\n"
     ]
    }
   ],
   "source": [
    "# Efetua a leitura do arquivo 'combustiveis.csv' \n",
    "df_combustiveis =  pd.read_csv(planilha_combustiveis,sep = ';',low_memory=False, parse_dates=['Data'],dayfirst = True,encoding='utf-8')\n",
    "\n",
    "# Cria um novo índice com a coluna 'Data' \n",
    "df_combustiveis.set_index(['Data'], inplace=True)\n",
    "\n",
    "display(df_combustiveis)\n",
    "df_combustiveis.info()"
   ]
  },
  {
   "cell_type": "code",
   "execution_count": 8,
   "id": "6b55c67a",
   "metadata": {},
   "outputs": [
    {
     "name": "stdout",
     "output_type": "stream",
     "text": [
      "Menor data no dataframe df_combustiveis: 2005-01-03 00:00:00\n",
      "Maior data no dataframe df_combustiveis: 2021-12-31 00:00:00\n"
     ]
    }
   ],
   "source": [
    "# Verifica a menor e a maior data no dataframe 'df_combustiveis'\n",
    "menor_data = df_combustiveis.index.min()\n",
    "maior_data = df_combustiveis.index.max()\n",
    "\n",
    "print('Menor data no dataframe df_combustiveis: ' + str(menor_data))\n",
    "print('Maior data no dataframe df_combustiveis: ' + str(maior_data))"
   ]
  },
  {
   "cell_type": "code",
   "execution_count": 9,
   "id": "1fe964da",
   "metadata": {},
   "outputs": [],
   "source": [
    "# Função utilizada para converter datetime em string no formato d/m/YYYY (exemplo: '2005-01-03 00:00:00' em '3/1/2005')\n",
    "def ajustar_data_DMY(texto):\n",
    "    texto_ajustado = texto.strftime('%#m/%#d/%Y')\n",
    "    return texto_ajustado"
   ]
  },
  {
   "cell_type": "code",
   "execution_count": 10,
   "id": "b2326dbe",
   "metadata": {},
   "outputs": [
    {
     "name": "stdout",
     "output_type": "stream",
     "text": [
      "https://olinda.bcb.gov.br/olinda/servico/PTAX/versao/v1/odata/CotacaoDolarPeriodo(dataInicial=@dataInicial,dataFinalCotacao=@dataFinalCotacao)?@dataInicial='1/3/2005'&@dataFinalCotacao='12/31/2021'&$top=10000&$orderby=dataHoraCotacao%20asc&$format=text/csv\n",
      "O arquivo ../Planilhas/planilha_dolar_bacen.csv foi removido com sucesso.\n",
      "-1 / unknownO download da planilha 'planilha_dolar_bacen.csv' foi efetuado com sucesso.\n"
     ]
    }
   ],
   "source": [
    "# É efetuado o download da planilha Dolar a partir da plataforma Olinda, do BACEN, utilizando como parâmetro o período abrangido no dataframe df_combustiveis\n",
    "# URL do site: https://olinda.bcb.gov.br/olinda/servico/PTAX/versao/v1/aplicacao#!/recursos/CotacaoDolarPeriodo#eyJmb3JtdWxhcmlvIjp7IiRmb3JtYXQiOiJqc29uIiwiJHRvcCI6MTAwfX0=\n",
    "# URL de referência: https://olinda.bcb.gov.br/olinda/servico/PTAX/versao/v1/odata/CotacaoDolarPeriodo(dataInicial=@dataInicial,dataFinalCotacao=@dataFinalCotacao)?@dataInicial='1-1-2004'&@dataFinalCotacao='10-31-2021'&$top=10000&$orderby=dataHoraCotacao%20asc&$format=text/csv\n",
    "\n",
    "url = 'https://olinda.bcb.gov.br/olinda/servico/PTAX/versao/v1/odata/CotacaoDolarPeriodo(dataInicial=@dataInicial,dataFinalCotacao=@dataFinalCotacao)?@dataInicial=' + '\\'' + ajustar_data_DMY(menor_data) + '\\''+'&@dataFinalCotacao=' + '\\'' + ajustar_data_DMY(maior_data) + '\\'' + '&$top=10000&$orderby=dataHoraCotacao%20asc&$format=text/csv'   \n",
    "\n",
    "print(url)\n",
    "\n",
    "try:\n",
    "    # Inicialmente exclui o arquivo caso ele exista.\n",
    "    remover_arquivo(pasta_planilhas +'planilha_dolar_bacen.csv')\n",
    "    \n",
    "    filename = wget.download(url,out=pasta_planilhas +'planilha_dolar_bacen.csv')\n",
    "    print('O download da planilha \\'planilha_dolar_bacen.csv\\' foi efetuado com sucesso.')\n",
    "except: \n",
    "    print('Não foi possível efetuar o download da planilha \\'planilha_dolar_bacen.csv\\'.')\n"
   ]
  },
  {
   "cell_type": "code",
   "execution_count": null,
   "id": "bbfaa833",
   "metadata": {},
   "outputs": [],
   "source": []
  }
 ],
 "metadata": {
  "kernelspec": {
   "display_name": "Python 3",
   "language": "python",
   "name": "python3"
  },
  "language_info": {
   "codemirror_mode": {
    "name": "ipython",
    "version": 3
   },
   "file_extension": ".py",
   "mimetype": "text/x-python",
   "name": "python",
   "nbconvert_exporter": "python",
   "pygments_lexer": "ipython3",
   "version": "3.8.8"
  }
 },
 "nbformat": 4,
 "nbformat_minor": 5
}
