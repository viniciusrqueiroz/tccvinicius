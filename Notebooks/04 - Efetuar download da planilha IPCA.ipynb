{
 "cells": [
  {
   "cell_type": "code",
   "execution_count": 1,
   "id": "f1fb0a48",
   "metadata": {},
   "outputs": [],
   "source": [
    "#pip install wget"
   ]
  },
  {
   "cell_type": "code",
   "execution_count": 2,
   "id": "50221215",
   "metadata": {},
   "outputs": [],
   "source": [
    "import pandas as pd\n",
    "import os\n",
    "import wget\n",
    "import zipfile"
   ]
  },
  {
   "cell_type": "code",
   "execution_count": 3,
   "id": "acfe89fb",
   "metadata": {},
   "outputs": [],
   "source": [
    "#Definição de variáveis\n",
    "pasta_planilha='../Planilhas/'"
   ]
  },
  {
   "cell_type": "code",
   "execution_count": 4,
   "id": "16f4ad6f",
   "metadata": {},
   "outputs": [],
   "source": [
    "# Função utilizada para remover um arquivo caso ele exista\n",
    "# Foi preferível utilizar esta função ao invés de diretamente o os.remove() para efetuar o \n",
    "# tratamento de exceções e não interromper o processamento caso ocorram.\n",
    "\n",
    "def remover_arquivo(url):\n",
    "    try:\n",
    "        os.remove(url)\n",
    "        print('O arquivo ' + url + ' foi removido com sucesso.')\n",
    "        return True\n",
    "    except:\n",
    "        #print('O arquivo ' + url + ' não pode ser removido.')\n",
    "        return False"
   ]
  },
  {
   "cell_type": "code",
   "execution_count": 5,
   "id": "4cbd698e",
   "metadata": {},
   "outputs": [
    {
     "name": "stdout",
     "output_type": "stream",
     "text": [
      "https://ftp.ibge.gov.br/Precos_Indices_de_Precos_ao_Consumidor/IPCA/Serie_Historica/ipca_SerieHist.zip\n",
      "\r",
      "  0% [                                                                              ]     0 / 23379\r",
      " 35% [...........................                                                   ]  8192 / 23379\r",
      " 70% [......................................................                        ] 16384 / 23379\r",
      "100% [..............................................................................] 23379 / 23379O download do arquivo 'ipca_SerieHist.zip' foi efetuado com sucesso.\n"
     ]
    }
   ],
   "source": [
    "# É efetuado o download da planilha IPCA a partir do FTP do IBGE.\n",
    "# Essa planilha vem no arquivo 'ipca_SerieHist.zip', obtido no link abaixo, e é atualizada mensalmente com as \n",
    "# informações do IPCA referente ao mês imediatamente anterior.\n",
    "# URL do site: https://ftp.ibge.gov.br/Precos_Indices_de_Precos_ao_Consumidor/IPCA/Serie_Historica/ipca_SerieHist.zip\n",
    "\n",
    "url = 'https://ftp.ibge.gov.br/Precos_Indices_de_Precos_ao_Consumidor/IPCA/Serie_Historica/ipca_SerieHist.zip'   \n",
    "\n",
    "print(url)\n",
    "\n",
    "# Inicialmente exclui o arquivo caso ele exista.\n",
    "remover_arquivo(pasta_planilha +'ipca_SerieHist.zip')\n",
    "\n",
    "try:\n",
    "    filename = wget.download(url,out=pasta_planilha +'ipca_SerieHist.zip')\n",
    "    print('O download do arquivo \\'ipca_SerieHist.zip\\' foi efetuado com sucesso.')\n",
    "except: \n",
    "    print('Não foi possível efetuar o download do arquivo \\'ipca_SerieHist.zip\\'.')\n"
   ]
  },
  {
   "cell_type": "code",
   "execution_count": 6,
   "id": "b33438ed",
   "metadata": {},
   "outputs": [
    {
     "name": "stdout",
     "output_type": "stream",
     "text": [
      "O arquivo ../Planilhas/planilha_ipca.xls foi removido com sucesso.\n",
      "O arquivo 'planilha_ipca.xls' foi extraído com sucesso.\n"
     ]
    }
   ],
   "source": [
    "# Obtém o nome do arquivo a ser extraído de 'ipca_SerieHist.zip'\n",
    "# Por padrão este nome varia de acordo com o ANO e o MES da última informação do IPCA\n",
    "# Ex: 'ipca_202110SerieHist.xls'\n",
    "\n",
    "arquivo_zip_ipca = zipfile.ZipFile(pasta_planilha+'ipca_SerieHist.zip', 'r')\n",
    "\n",
    "try:\n",
    "    # Retorna o nome da planilha XLS\n",
    "    nome_arquivo_extraido = arquivo_zip_ipca.namelist()[0]\n",
    "\n",
    "    # Se o arquivo a ser extraído já existe na pasta, é removido primeiro\n",
    "    remover_arquivo(pasta_planilha+nome_arquivo_extraido)\n",
    "\n",
    "    # É feita a extração no arquivo 'ipca_SerieHist.zip'\n",
    "    arquivo_zip_ipca.extractall(pasta_planilha)\n",
    "\n",
    "    # Se o arquivo 'planilha_ipca.xls' já existe, é removido primeiro\n",
    "    remover_arquivo(pasta_planilha+'planilha_ipca.xls')\n",
    "\n",
    "    # O arquivo extraído é renomeado para 'planilha_ipca.xls'\n",
    "    os.rename(pasta_planilha+nome_arquivo_extraido,pasta_planilha+'planilha_ipca.xls')\n",
    "    \n",
    "    print('O arquivo \\'planilha_ipca.xls\\' foi extraído com sucesso.')\n",
    "except:\n",
    "    print('Não foi possível extrair o arquivo \\'planilha_ipca.xls\\'.')\n",
    "\n",
    "# Fecha o arquivo ZIP para poder ser apagado\n",
    "arquivo_zip_ipca.close()\n",
    "\n",
    "# O arquivo ZIP é apagado\n",
    "os.remove(pasta_planilha+'ipca_SerieHist.zip')"
   ]
  }
 ],
 "metadata": {
  "kernelspec": {
   "display_name": "Python 3",
   "language": "python",
   "name": "python3"
  },
  "language_info": {
   "codemirror_mode": {
    "name": "ipython",
    "version": 3
   },
   "file_extension": ".py",
   "mimetype": "text/x-python",
   "name": "python",
   "nbconvert_exporter": "python",
   "pygments_lexer": "ipython3",
   "version": "3.8.8"
  }
 },
 "nbformat": 4,
 "nbformat_minor": 5
}
