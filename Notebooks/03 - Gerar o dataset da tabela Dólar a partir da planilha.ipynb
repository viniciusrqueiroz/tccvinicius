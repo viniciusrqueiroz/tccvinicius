{
 "cells": [
  {
   "cell_type": "code",
   "execution_count": 1,
   "id": "769652ff",
   "metadata": {},
   "outputs": [],
   "source": [
    "import pandas as pd\n",
    "import numpy as np\n",
    "import os"
   ]
  },
  {
   "cell_type": "code",
   "execution_count": 2,
   "id": "7a998b7f",
   "metadata": {},
   "outputs": [
    {
     "name": "stdout",
     "output_type": "stream",
     "text": [
      "\"A pasta ../Datasets/ já existe.\n"
     ]
    }
   ],
   "source": [
    "#Definição de variáveis\n",
    "pasta_datasets='../Datasets/'\n",
    "pasta_planilhas='../Planilhas/'\n",
    "planilha_dolar_original = 'planilha_dolar_bacen.csv'\n",
    "\n",
    "try:\n",
    "    os.mkdir(pasta_datasets)\n",
    "    print(f'\"A pasta {pasta_datasets} foi criada.') \n",
    "except FileExistsError:\n",
    "    print(f'\"A pasta {pasta_datasets} já existe.') "
   ]
  },
  {
   "cell_type": "code",
   "execution_count": 3,
   "id": "e3e10fe3",
   "metadata": {},
   "outputs": [
    {
     "name": "stdout",
     "output_type": "stream",
     "text": [
      "O arquivo planilha_dolar_bacen.csv existe.\n"
     ]
    }
   ],
   "source": [
    "# Verifica se o arquivo 'planilha_dolar_original.csv' existe\n",
    "planilha_dolar_existe = os.path.isfile(pasta_planilhas+planilha_dolar_original)\n",
    "\n",
    "if planilha_dolar_existe:\n",
    "    print(f'O arquivo {planilha_dolar_original} existe.') \n",
    "else:\n",
    "    print(f'O arquivo {planilha_dolar_original} não existe, execute o Notebook anterior.') \n"
   ]
  },
  {
   "cell_type": "code",
   "execution_count": 4,
   "id": "d52b60fa",
   "metadata": {},
   "outputs": [
    {
     "data": {
      "text/html": [
       "<div>\n",
       "<style scoped>\n",
       "    .dataframe tbody tr th:only-of-type {\n",
       "        vertical-align: middle;\n",
       "    }\n",
       "\n",
       "    .dataframe tbody tr th {\n",
       "        vertical-align: top;\n",
       "    }\n",
       "\n",
       "    .dataframe thead th {\n",
       "        text-align: right;\n",
       "    }\n",
       "</style>\n",
       "<table border=\"1\" class=\"dataframe\">\n",
       "  <thead>\n",
       "    <tr style=\"text-align: right;\">\n",
       "      <th></th>\n",
       "      <th>cotacaoCompra</th>\n",
       "      <th>cotacaoVenda</th>\n",
       "      <th>dataHoraCotacao</th>\n",
       "    </tr>\n",
       "  </thead>\n",
       "  <tbody>\n",
       "    <tr>\n",
       "      <th>0</th>\n",
       "      <td>2.6674</td>\n",
       "      <td>2.6682</td>\n",
       "      <td>2005-01-03 18:35:00.000</td>\n",
       "    </tr>\n",
       "    <tr>\n",
       "      <th>1</th>\n",
       "      <td>2.6879</td>\n",
       "      <td>2.6887</td>\n",
       "      <td>2005-01-04 17:40:00.000</td>\n",
       "    </tr>\n",
       "    <tr>\n",
       "      <th>2</th>\n",
       "      <td>2.7088</td>\n",
       "      <td>2.7096</td>\n",
       "      <td>2005-01-05 17:40:00.000</td>\n",
       "    </tr>\n",
       "    <tr>\n",
       "      <th>3</th>\n",
       "      <td>2.7199</td>\n",
       "      <td>2.7207</td>\n",
       "      <td>2005-01-06 17:49:00.000</td>\n",
       "    </tr>\n",
       "    <tr>\n",
       "      <th>4</th>\n",
       "      <td>2.7024</td>\n",
       "      <td>2.7032</td>\n",
       "      <td>2005-01-07 17:35:00.000</td>\n",
       "    </tr>\n",
       "    <tr>\n",
       "      <th>...</th>\n",
       "      <td>...</td>\n",
       "      <td>...</td>\n",
       "      <td>...</td>\n",
       "    </tr>\n",
       "    <tr>\n",
       "      <th>4263</th>\n",
       "      <td>5.6644</td>\n",
       "      <td>5.6650</td>\n",
       "      <td>2021-12-27 13:02:39.238</td>\n",
       "    </tr>\n",
       "    <tr>\n",
       "      <th>4264</th>\n",
       "      <td>5.6432</td>\n",
       "      <td>5.6438</td>\n",
       "      <td>2021-12-28 13:09:32.360</td>\n",
       "    </tr>\n",
       "    <tr>\n",
       "      <th>4265</th>\n",
       "      <td>5.6613</td>\n",
       "      <td>5.6619</td>\n",
       "      <td>2021-12-29 13:09:53.696</td>\n",
       "    </tr>\n",
       "    <tr>\n",
       "      <th>4266</th>\n",
       "      <td>5.5799</td>\n",
       "      <td>5.5805</td>\n",
       "      <td>2021-12-30 13:05:01.310</td>\n",
       "    </tr>\n",
       "    <tr>\n",
       "      <th>4267</th>\n",
       "      <td>5.5799</td>\n",
       "      <td>5.5805</td>\n",
       "      <td>2021-12-31 10:04:20.895</td>\n",
       "    </tr>\n",
       "  </tbody>\n",
       "</table>\n",
       "<p>4268 rows × 3 columns</p>\n",
       "</div>"
      ],
      "text/plain": [
       "      cotacaoCompra  cotacaoVenda         dataHoraCotacao\n",
       "0            2.6674        2.6682 2005-01-03 18:35:00.000\n",
       "1            2.6879        2.6887 2005-01-04 17:40:00.000\n",
       "2            2.7088        2.7096 2005-01-05 17:40:00.000\n",
       "3            2.7199        2.7207 2005-01-06 17:49:00.000\n",
       "4            2.7024        2.7032 2005-01-07 17:35:00.000\n",
       "...             ...           ...                     ...\n",
       "4263         5.6644        5.6650 2021-12-27 13:02:39.238\n",
       "4264         5.6432        5.6438 2021-12-28 13:09:32.360\n",
       "4265         5.6613        5.6619 2021-12-29 13:09:53.696\n",
       "4266         5.5799        5.5805 2021-12-30 13:05:01.310\n",
       "4267         5.5799        5.5805 2021-12-31 10:04:20.895\n",
       "\n",
       "[4268 rows x 3 columns]"
      ]
     },
     "metadata": {},
     "output_type": "display_data"
    },
    {
     "name": "stdout",
     "output_type": "stream",
     "text": [
      "<class 'pandas.core.frame.DataFrame'>\n",
      "RangeIndex: 4268 entries, 0 to 4267\n",
      "Data columns (total 3 columns):\n",
      " #   Column           Non-Null Count  Dtype         \n",
      "---  ------           --------------  -----         \n",
      " 0   cotacaoCompra    4268 non-null   float64       \n",
      " 1   cotacaoVenda     4268 non-null   float64       \n",
      " 2   dataHoraCotacao  4268 non-null   datetime64[ns]\n",
      "dtypes: datetime64[ns](1), float64(2)\n",
      "memory usage: 100.2 KB\n"
     ]
    }
   ],
   "source": [
    "# Define os tipos dos dados das colunas de interesse\n",
    "\n",
    "# Efetua a leitura do arquivo 'planilha_dolar_original.csv'  no dataframe 'df_dolar'\n",
    "df_dolar = pd.read_csv(pasta_planilhas+planilha_dolar_original,sep = ',', decimal=',',low_memory=False, \n",
    "                       parse_dates=['dataHoraCotacao'],dayfirst = True,encoding='utf-8')\n",
    "\n",
    "display(df_dolar)\n",
    "\n",
    "df_dolar.info()\n"
   ]
  },
  {
   "cell_type": "code",
   "execution_count": 5,
   "id": "909179d4",
   "metadata": {},
   "outputs": [
    {
     "name": "stdout",
     "output_type": "stream",
     "text": [
      "Index(['cotacaoCompra', 'cotacaoVenda', 'Data'], dtype='object')\n",
      "<class 'pandas.core.frame.DataFrame'>\n",
      "RangeIndex: 4268 entries, 0 to 4267\n",
      "Data columns (total 3 columns):\n",
      " #   Column         Non-Null Count  Dtype         \n",
      "---  ------         --------------  -----         \n",
      " 0   cotacaoCompra  4268 non-null   float64       \n",
      " 1   cotacaoVenda   4268 non-null   float64       \n",
      " 2   Data           4268 non-null   datetime64[ns]\n",
      "dtypes: datetime64[ns](1), float64(2)\n",
      "memory usage: 100.2 KB\n"
     ]
    }
   ],
   "source": [
    "# Simplifica o nome da coluna dataHoraCotacao\n",
    "colunas_renomeadas = {\n",
    "                      'dataHoraCotacao' : 'Data'\n",
    "                     }\n",
    "\n",
    "df_dolar.rename(columns=colunas_renomeadas, inplace = True)\n",
    "\n",
    "print(df_dolar.columns)\n",
    "df_dolar.info()"
   ]
  },
  {
   "cell_type": "code",
   "execution_count": 6,
   "id": "5f0a57c3",
   "metadata": {},
   "outputs": [
    {
     "data": {
      "text/plain": [
       "False"
      ]
     },
     "execution_count": 6,
     "metadata": {},
     "output_type": "execute_result"
    }
   ],
   "source": [
    "# Verifica se há algum valor nulo no dataframe 'df_dolar'\n",
    "\n",
    "df_dolar.isnull().values.any()"
   ]
  },
  {
   "cell_type": "code",
   "execution_count": 7,
   "id": "391ed931",
   "metadata": {},
   "outputs": [
    {
     "data": {
      "text/html": [
       "<div>\n",
       "<style scoped>\n",
       "    .dataframe tbody tr th:only-of-type {\n",
       "        vertical-align: middle;\n",
       "    }\n",
       "\n",
       "    .dataframe tbody tr th {\n",
       "        vertical-align: top;\n",
       "    }\n",
       "\n",
       "    .dataframe thead th {\n",
       "        text-align: right;\n",
       "    }\n",
       "</style>\n",
       "<table border=\"1\" class=\"dataframe\">\n",
       "  <thead>\n",
       "    <tr style=\"text-align: right;\">\n",
       "      <th></th>\n",
       "      <th>cotacaoCompra</th>\n",
       "      <th>cotacaoVenda</th>\n",
       "      <th>Data</th>\n",
       "    </tr>\n",
       "  </thead>\n",
       "  <tbody>\n",
       "    <tr>\n",
       "      <th>0</th>\n",
       "      <td>2.6674</td>\n",
       "      <td>2.6682</td>\n",
       "      <td>2005-01-03</td>\n",
       "    </tr>\n",
       "    <tr>\n",
       "      <th>1</th>\n",
       "      <td>2.6879</td>\n",
       "      <td>2.6887</td>\n",
       "      <td>2005-01-04</td>\n",
       "    </tr>\n",
       "    <tr>\n",
       "      <th>2</th>\n",
       "      <td>2.7088</td>\n",
       "      <td>2.7096</td>\n",
       "      <td>2005-01-05</td>\n",
       "    </tr>\n",
       "    <tr>\n",
       "      <th>3</th>\n",
       "      <td>2.7199</td>\n",
       "      <td>2.7207</td>\n",
       "      <td>2005-01-06</td>\n",
       "    </tr>\n",
       "    <tr>\n",
       "      <th>4</th>\n",
       "      <td>2.7024</td>\n",
       "      <td>2.7032</td>\n",
       "      <td>2005-01-07</td>\n",
       "    </tr>\n",
       "    <tr>\n",
       "      <th>...</th>\n",
       "      <td>...</td>\n",
       "      <td>...</td>\n",
       "      <td>...</td>\n",
       "    </tr>\n",
       "    <tr>\n",
       "      <th>4263</th>\n",
       "      <td>5.6644</td>\n",
       "      <td>5.6650</td>\n",
       "      <td>2021-12-27</td>\n",
       "    </tr>\n",
       "    <tr>\n",
       "      <th>4264</th>\n",
       "      <td>5.6432</td>\n",
       "      <td>5.6438</td>\n",
       "      <td>2021-12-28</td>\n",
       "    </tr>\n",
       "    <tr>\n",
       "      <th>4265</th>\n",
       "      <td>5.6613</td>\n",
       "      <td>5.6619</td>\n",
       "      <td>2021-12-29</td>\n",
       "    </tr>\n",
       "    <tr>\n",
       "      <th>4266</th>\n",
       "      <td>5.5799</td>\n",
       "      <td>5.5805</td>\n",
       "      <td>2021-12-30</td>\n",
       "    </tr>\n",
       "    <tr>\n",
       "      <th>4267</th>\n",
       "      <td>5.5799</td>\n",
       "      <td>5.5805</td>\n",
       "      <td>2021-12-31</td>\n",
       "    </tr>\n",
       "  </tbody>\n",
       "</table>\n",
       "<p>4268 rows × 3 columns</p>\n",
       "</div>"
      ],
      "text/plain": [
       "      cotacaoCompra  cotacaoVenda       Data\n",
       "0            2.6674        2.6682 2005-01-03\n",
       "1            2.6879        2.6887 2005-01-04\n",
       "2            2.7088        2.7096 2005-01-05\n",
       "3            2.7199        2.7207 2005-01-06\n",
       "4            2.7024        2.7032 2005-01-07\n",
       "...             ...           ...        ...\n",
       "4263         5.6644        5.6650 2021-12-27\n",
       "4264         5.6432        5.6438 2021-12-28\n",
       "4265         5.6613        5.6619 2021-12-29\n",
       "4266         5.5799        5.5805 2021-12-30\n",
       "4267         5.5799        5.5805 2021-12-31\n",
       "\n",
       "[4268 rows x 3 columns]"
      ]
     },
     "metadata": {},
     "output_type": "display_data"
    }
   ],
   "source": [
    "# Efetua a conversão do formato da coluna Data para o formato d/m/YYYY (exemplo: '2005-01-03 18:35:00.000' em '2005-01-03')\n",
    "df_dolar['Data'] = pd.to_datetime(df_dolar['Data'].dt.strftime('%Y-%m-%d'), dayfirst = True)\n",
    "\n",
    "display(df_dolar)"
   ]
  },
  {
   "cell_type": "code",
   "execution_count": 8,
   "id": "bab96c6e",
   "metadata": {},
   "outputs": [
    {
     "data": {
      "text/html": [
       "<div>\n",
       "<style scoped>\n",
       "    .dataframe tbody tr th:only-of-type {\n",
       "        vertical-align: middle;\n",
       "    }\n",
       "\n",
       "    .dataframe tbody tr th {\n",
       "        vertical-align: top;\n",
       "    }\n",
       "\n",
       "    .dataframe thead th {\n",
       "        text-align: right;\n",
       "    }\n",
       "</style>\n",
       "<table border=\"1\" class=\"dataframe\">\n",
       "  <thead>\n",
       "    <tr style=\"text-align: right;\">\n",
       "      <th></th>\n",
       "      <th>cotacaoCompra</th>\n",
       "      <th>cotacaoVenda</th>\n",
       "    </tr>\n",
       "    <tr>\n",
       "      <th>Data</th>\n",
       "      <th></th>\n",
       "      <th></th>\n",
       "    </tr>\n",
       "  </thead>\n",
       "  <tbody>\n",
       "    <tr>\n",
       "      <th>2005-01-03</th>\n",
       "      <td>2.6674</td>\n",
       "      <td>2.6682</td>\n",
       "    </tr>\n",
       "    <tr>\n",
       "      <th>2005-01-04</th>\n",
       "      <td>2.6879</td>\n",
       "      <td>2.6887</td>\n",
       "    </tr>\n",
       "    <tr>\n",
       "      <th>2005-01-05</th>\n",
       "      <td>2.7088</td>\n",
       "      <td>2.7096</td>\n",
       "    </tr>\n",
       "    <tr>\n",
       "      <th>2005-01-06</th>\n",
       "      <td>2.7199</td>\n",
       "      <td>2.7207</td>\n",
       "    </tr>\n",
       "    <tr>\n",
       "      <th>2005-01-07</th>\n",
       "      <td>2.7024</td>\n",
       "      <td>2.7032</td>\n",
       "    </tr>\n",
       "    <tr>\n",
       "      <th>...</th>\n",
       "      <td>...</td>\n",
       "      <td>...</td>\n",
       "    </tr>\n",
       "    <tr>\n",
       "      <th>2021-12-27</th>\n",
       "      <td>5.6644</td>\n",
       "      <td>5.6650</td>\n",
       "    </tr>\n",
       "    <tr>\n",
       "      <th>2021-12-28</th>\n",
       "      <td>5.6432</td>\n",
       "      <td>5.6438</td>\n",
       "    </tr>\n",
       "    <tr>\n",
       "      <th>2021-12-29</th>\n",
       "      <td>5.6613</td>\n",
       "      <td>5.6619</td>\n",
       "    </tr>\n",
       "    <tr>\n",
       "      <th>2021-12-30</th>\n",
       "      <td>5.5799</td>\n",
       "      <td>5.5805</td>\n",
       "    </tr>\n",
       "    <tr>\n",
       "      <th>2021-12-31</th>\n",
       "      <td>5.5799</td>\n",
       "      <td>5.5805</td>\n",
       "    </tr>\n",
       "  </tbody>\n",
       "</table>\n",
       "<p>4268 rows × 2 columns</p>\n",
       "</div>"
      ],
      "text/plain": [
       "            cotacaoCompra  cotacaoVenda\n",
       "Data                                   \n",
       "2005-01-03         2.6674        2.6682\n",
       "2005-01-04         2.6879        2.6887\n",
       "2005-01-05         2.7088        2.7096\n",
       "2005-01-06         2.7199        2.7207\n",
       "2005-01-07         2.7024        2.7032\n",
       "...                   ...           ...\n",
       "2021-12-27         5.6644        5.6650\n",
       "2021-12-28         5.6432        5.6438\n",
       "2021-12-29         5.6613        5.6619\n",
       "2021-12-30         5.5799        5.5805\n",
       "2021-12-31         5.5799        5.5805\n",
       "\n",
       "[4268 rows x 2 columns]"
      ]
     },
     "metadata": {},
     "output_type": "display_data"
    }
   ],
   "source": [
    "# Cria um novo índice com a coluna 'Data' \n",
    "df_dolar.set_index(['Data'], inplace=True)\n",
    "\n",
    "display(df_dolar)"
   ]
  },
  {
   "cell_type": "code",
   "execution_count": 9,
   "id": "428a9419",
   "metadata": {},
   "outputs": [
    {
     "name": "stdout",
     "output_type": "stream",
     "text": [
      "Menor data no dataframe df_combustiveis: 2005-01-03 00:00:00\n",
      "Maior data no dataframe df_combustiveis: 2021-12-31 00:00:00\n"
     ]
    }
   ],
   "source": [
    "# Verifica a menor e a maior data no dataframe 'df_combustiveis'\n",
    "menor_data = df_dolar.index.min()\n",
    "maior_data = df_dolar.index.max()\n",
    "\n",
    "print('Menor data no dataframe df_combustiveis: ' + str(menor_data))\n",
    "print('Maior data no dataframe df_combustiveis: ' + str(maior_data))"
   ]
  },
  {
   "cell_type": "code",
   "execution_count": 10,
   "id": "74e149cd",
   "metadata": {},
   "outputs": [],
   "source": [
    "# Exporta o dataset para um arquivo CSV\n",
    "df_dolar.to_csv(pasta_datasets + 'dolar.csv', sep = ';',index=True)"
   ]
  },
  {
   "cell_type": "code",
   "execution_count": null,
   "id": "caaf8773",
   "metadata": {},
   "outputs": [],
   "source": []
  }
 ],
 "metadata": {
  "kernelspec": {
   "display_name": "Python 3",
   "language": "python",
   "name": "python3"
  },
  "language_info": {
   "codemirror_mode": {
    "name": "ipython",
    "version": 3
   },
   "file_extension": ".py",
   "mimetype": "text/x-python",
   "name": "python",
   "nbconvert_exporter": "python",
   "pygments_lexer": "ipython3",
   "version": "3.8.8"
  }
 },
 "nbformat": 4,
 "nbformat_minor": 5
}
